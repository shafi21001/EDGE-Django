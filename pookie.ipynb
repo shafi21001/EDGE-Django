{
  "nbformat": 4,
  "nbformat_minor": 0,
  "metadata": {
    "colab": {
      "provenance": [],
      "mount_file_id": "1uoQx-L6E88J7rA8K0BnGAqJJAD4EcW_Q",
      "authorship_tag": "ABX9TyPfvLDiabpFmeylA6a/gBBo",
      "include_colab_link": true
    },
    "kernelspec": {
      "name": "python3",
      "display_name": "Python 3"
    },
    "language_info": {
      "name": "python"
    }
  },
  "cells": [
    {
      "cell_type": "markdown",
      "metadata": {
        "id": "view-in-github",
        "colab_type": "text"
      },
      "source": [
        "<a href=\"https://colab.research.google.com/github/shafi21001/EDGE-Django/blob/main/pookie.ipynb\" target=\"_parent\"><img src=\"https://colab.research.google.com/assets/colab-badge.svg\" alt=\"Open In Colab\"/></a>"
      ]
    },
    {
      "cell_type": "code",
      "execution_count": 1,
      "metadata": {
        "colab": {
          "base_uri": "https://localhost:8080/"
        },
        "id": "F2_t-RMs91_6",
        "outputId": "c0965450-97a2-447d-bd7c-3c6ddc357c1d"
      },
      "outputs": [
        {
          "output_type": "stream",
          "name": "stdout",
          "text": [
            "Hello Pookie!\n"
          ]
        }
      ],
      "source": [
        "print(\"Hello Pookie!\")"
      ]
    }
  ]
}