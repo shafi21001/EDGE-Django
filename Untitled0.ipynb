{
  "nbformat": 4,
  "nbformat_minor": 0,
  "metadata": {
    "colab": {
      "provenance": [],
      "authorship_tag": "ABX9TyMLpExWPuQhebG1Sf0vo/D5",
      "include_colab_link": true
    },
    "kernelspec": {
      "name": "python3",
      "display_name": "Python 3"
    },
    "language_info": {
      "name": "python"
    }
  },
  "cells": [
    {
      "cell_type": "markdown",
      "metadata": {
        "id": "view-in-github",
        "colab_type": "text"
      },
      "source": [
        "<a href=\"https://colab.research.google.com/github/shafi21001/EDGE-Django/blob/main/Untitled0.ipynb\" target=\"_parent\"><img src=\"https://colab.research.google.com/assets/colab-badge.svg\" alt=\"Open In Colab\"/></a>"
      ]
    },
    {
      "cell_type": "code",
      "execution_count": null,
      "metadata": {
        "colab": {
          "base_uri": "https://localhost:8080/"
        },
        "id": "gv__MRsNpJUq",
        "outputId": "78935e33-a287-4ed7-bafa-cd37527c58e3"
      },
      "outputs": [
        {
          "output_type": "stream",
          "name": "stdout",
          "text": [
            "python is awesome\n"
          ]
        }
      ],
      "source": [
        "# prompt: x='python'\n",
        "# y='is'\n",
        "# z='awesome'\n",
        "# print(x, y, z)\n",
        "\n",
        "x='python'\n",
        "y='is'\n",
        "z='awesome'\n",
        "print(x, y, z)\n"
      ]
    },
    {
      "cell_type": "code",
      "source": [],
      "metadata": {
        "id": "MhpiJuESpcCQ"
      },
      "execution_count": null,
      "outputs": []
    }
  ]
}